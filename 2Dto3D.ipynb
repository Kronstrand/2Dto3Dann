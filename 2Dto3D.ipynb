{
 "cells": [
  {
   "cell_type": "code",
   "execution_count": 5,
   "metadata": {},
   "outputs": [],
   "source": [
    "from PIL import Image\n",
    "import numpy as np\n",
    "import matplotlib.pyplot as plt\n",
    "\n",
    "import keras\n",
    "from keras.layers import Dense, Flatten, Reshape, Dropout\n",
    "from keras.layers import Conv2D, MaxPooling2D, Conv2DTranspose, BatchNormalization\n",
    "from keras.models import Sequential\n",
    "\n",
    "%matplotlib inline\n",
    "\n",
    "# RGB to BW (dimention reduction)\n",
    "def convert_to_normalized_grayscale(array):\n",
    "\n",
    "    a = np.zeros(shape=(array.shape[0], array.shape[1]))    \n",
    "    \n",
    "    #convert the image to grayscale and normalize the data\n",
    "    for i in range(0, array.shape[0]):\n",
    "        for j in range(0, array.shape[1]):\n",
    "            a[i,j] = max(array[i,j,0], array[i,j,1], array[i,j,2]) / 255\n",
    "    \n",
    "    return a "
   ]
  },
  {
   "cell_type": "code",
   "execution_count": 18,
   "metadata": {},
   "outputs": [
    {
     "name": "stdout",
     "output_type": "stream",
     "text": [
      "done\n"
     ]
    }
   ],
   "source": [
    "dataSize = 600\n",
    "\n",
    "train_size = int(dataSize * 0.80);\n",
    "\n",
    "input_row_count = 72\n",
    "input_column_count = 72\n",
    "input_data = np.zeros((dataSize, input_row_count, input_column_count))\n",
    "\n",
    "for i in range(1, dataSize):\n",
    "    newImg = np.array(Image.open(\"input/input_\" + str(i+1) + \".jpg\"))\n",
    "    newImg = convert_to_normalized_grayscale(newImg)\n",
    "    input_data[i,:,:] = newImg\n",
    "\n",
    "training_input = input_data[0:train_size,:,:]\n",
    "testing_input = input_data[train_size:,:,:]\n",
    "\n",
    "target_row_count = 121\n",
    "target_column_count = 180\n",
    "target_data = np.zeros((dataSize, target_row_count, target_column_count))\n",
    "\n",
    "for i in range(1, dataSize):\n",
    "    newImg = np.array(Image.open(\"target/target_\" + str(i+1) + \".jpg\"))\n",
    "    newImg = convert_to_normalized_grayscale(newImg)\n",
    "    target_data[i,:,:] = newImg\n",
    "\n",
    "#since tensorflow requires a 4D tesor as input, we put the values in in a forth dimention.\n",
    "input_data = input_data.reshape(input_data.shape[0], input_row_count, input_column_count, 1)\n",
    "target_data = target_data.reshape(target_data.shape[0], target_row_count, target_column_count, 1)\n",
    "\n",
    "#splitting input data into training and validation\n",
    "training_input = input_data[0:train_size,:,:,:]\n",
    "testing_input = input_data[train_size:,:,:,:]\n",
    "\n",
    "#release the initial array from memory\n",
    "del input_data\n",
    "\n",
    "#splitting target data into training and validation\n",
    "training_target = target_data[0:train_size,:,:,:]\n",
    "testing_target = target_data[train_size:,:,:,:]\n",
    "\n",
    "print(\"done\")"
   ]
  },
  {
   "cell_type": "code",
   "execution_count": 40,
   "metadata": {},
   "outputs": [
    {
     "name": "stdout",
     "output_type": "stream",
     "text": [
      "_________________________________________________________________\n",
      "Layer (type)                 Output Shape              Param #   \n",
      "=================================================================\n",
      "conv2d_17 (Conv2D)           (None, 34, 34, 12)        312       \n",
      "_________________________________________________________________\n",
      "max_pooling2d_9 (MaxPooling2 (None, 17, 17, 12)        0         \n",
      "_________________________________________________________________\n",
      "conv2d_18 (Conv2D)           (None, 7, 7, 24)          7224      \n",
      "_________________________________________________________________\n",
      "flatten_9 (Flatten)          (None, 1176)              0         \n",
      "_________________________________________________________________\n",
      "dense_13 (Dense)             (None, 1176)              1384152   \n",
      "_________________________________________________________________\n",
      "dense_14 (Dense)             (None, 1176)              1384152   \n",
      "_________________________________________________________________\n",
      "reshape_7 (Reshape)          (None, 28, 42, 1)         0         \n",
      "_________________________________________________________________\n",
      "conv2d_transpose_13 (Conv2DT (None, 59, 88, 14)        434       \n",
      "_________________________________________________________________\n",
      "batch_normalization_7 (Batch (None, 59, 88, 14)        56        \n",
      "_________________________________________________________________\n",
      "conv2d_transpose_14 (Conv2DT (None, 121, 180, 1)       421       \n",
      "=================================================================\n",
      "Total params: 2,776,751\n",
      "Trainable params: 2,776,723\n",
      "Non-trainable params: 28\n",
      "_________________________________________________________________\n"
     ]
    }
   ],
   "source": [
    "input_shape = (training_input.shape[1], training_input.shape[2], training_input.shape[3])\n",
    "dropout = 0.4;\n",
    "\n",
    "model = Sequential()\n",
    "model.add(Conv2D(12, kernel_size=(5, 5), strides=(2, 2), activation='relu', input_shape=input_shape))\n",
    "model.add(MaxPooling2D(pool_size=(2, 2), strides=(2, 2)))\n",
    "model.add(Conv2D(24, kernel_size=(5, 5), strides=(2, 2), activation='relu'))\n",
    "model.add(Flatten())\n",
    "model.add(Dense(1176, activation='relu'))\n",
    "model.add(Dense(1176, activation='relu'))\n",
    "model.add(Reshape((28, 42,1)))\n",
    "model.add(Conv2DTranspose(14, kernel_size=(5, 6), strides=(2, 2), activation='relu'))\n",
    "model.add(BatchNormalization(momentum=0.9))\n",
    "model.add(Conv2DTranspose(1, kernel_size=(5, 6), strides=(2, 2), activation='sigmoid'))\n",
    "model.summary()\n",
    "\n"
   ]
  },
  {
   "cell_type": "code",
   "execution_count": null,
   "metadata": {},
   "outputs": [
    {
     "name": "stdout",
     "output_type": "stream",
     "text": [
      "Epoch 1/100\n"
     ]
    }
   ],
   "source": [
    "# For a mean squared error regression problem\n",
    "model.compile(optimizer='rmsprop',\n",
    "              loss='mse')\n",
    "\n",
    "model.fit(training_input, training_target, epochs=100, batch_size=dataSize)\n",
    "\n",
    "score = model.evaluate(testing_input, testing_target, batch_size=testing_target.shape[0])\n",
    "score"
   ]
  },
  {
   "cell_type": "code",
   "execution_count": null,
   "metadata": {
    "collapsed": true
   },
   "outputs": [],
   "source": []
  },
  {
   "cell_type": "code",
   "execution_count": null,
   "metadata": {
    "collapsed": true
   },
   "outputs": [],
   "source": []
  },
  {
   "cell_type": "code",
   "execution_count": null,
   "metadata": {
    "collapsed": true
   },
   "outputs": [],
   "source": []
  },
  {
   "cell_type": "code",
   "execution_count": 20,
   "metadata": {},
   "outputs": [
    {
     "data": {
      "text/plain": [
       "<matplotlib.image.AxesImage at 0x1d52819a710>"
      ]
     },
     "execution_count": 20,
     "metadata": {},
     "output_type": "execute_result"
    },
    {
     "data": {
      "image/png": "[encoded data removed]",
      "text/plain": [
       "<matplotlib.figure.Figure at 0x1d527f7d6d8>"
      ]
     },
     "metadata": {},
     "output_type": "display_data"
    }
   ],
   "source": [
    "generated = model.predict(testing_input[16:100,:,:,:])\n",
    "plt.imshow(generated[3,:,:,0], cmap='gray', interpolation='nearest')"
   ]
  },
  {
   "cell_type": "code",
   "execution_count": 23,
   "metadata": {},
   "outputs": [
    {
     "data": {
      "text/plain": [
       "<matplotlib.image.AxesImage at 0x1d5281e0a20>"
      ]
     },
     "execution_count": 23,
     "metadata": {},
     "output_type": "execute_result"
    },
    {
     "data": {
      "image/png": "[encoded data removed]",
      "text/plain": [
       "<matplotlib.figure.Figure at 0x1d5295ca908>"
      ]
     },
     "metadata": {},
     "output_type": "display_data"
    }
   ],
   "source": [
    "plt.imshow(generated[50,:,:,0], cmap='gray', interpolation='nearest')"
   ]
  },
  {
   "cell_type": "code",
   "execution_count": null,
   "metadata": {
    "collapsed": true
   },
   "outputs": [],
   "source": []
  },
  {
   "cell_type": "code",
   "execution_count": null,
   "metadata": {
    "collapsed": true
   },
   "outputs": [],
   "source": []
  },
  {
   "cell_type": "code",
   "execution_count": null,
   "metadata": {
    "collapsed": true
   },
   "outputs": [],
   "source": []
  },
  {
   "cell_type": "code",
   "execution_count": null,
   "metadata": {
    "collapsed": true
   },
   "outputs": [],
   "source": []
  },
  {
   "cell_type": "code",
   "execution_count": null,
   "metadata": {
    "collapsed": true
   },
   "outputs": [],
   "source": []
  },
  {
   "cell_type": "code",
   "execution_count": null,
   "metadata": {
    "collapsed": true
   },
   "outputs": [],
   "source": []
  },
  {
   "cell_type": "code",
   "execution_count": null,
   "metadata": {
    "collapsed": true
   },
   "outputs": [],
   "source": []
  },
  {
   "cell_type": "code",
   "execution_count": null,
   "metadata": {
    "collapsed": true
   },
   "outputs": [],
   "source": []
  },
  {
   "cell_type": "code",
   "execution_count": null,
   "metadata": {
    "collapsed": true
   },
   "outputs": [],
   "source": []
  },
  {
   "cell_type": "code",
   "execution_count": null,
   "metadata": {
    "collapsed": true
   },
   "outputs": [],
   "source": []
  },
  {
   "cell_type": "code",
   "execution_count": null,
   "metadata": {
    "collapsed": true
   },
   "outputs": [],
   "source": []
  },
  {
   "cell_type": "code",
   "execution_count": null,
   "metadata": {
    "collapsed": true
   },
   "outputs": [],
   "source": []
  },
  {
   "cell_type": "code",
   "execution_count": null,
   "metadata": {
    "collapsed": true
   },
   "outputs": [],
   "source": []
  },
  {
   "cell_type": "code",
   "execution_count": null,
   "metadata": {
    "collapsed": true
   },
   "outputs": [],
   "source": []
  },
  {
   "cell_type": "code",
   "execution_count": null,
   "metadata": {
    "collapsed": true
   },
   "outputs": [],
   "source": []
  },
  {
   "cell_type": "code",
   "execution_count": null,
   "metadata": {
    "collapsed": true
   },
   "outputs": [],
   "source": []
  },
  {
   "cell_type": "code",
   "execution_count": null,
   "metadata": {
    "collapsed": true
   },
   "outputs": [],
   "source": []
  },
  {
   "cell_type": "code",
   "execution_count": null,
   "metadata": {
    "collapsed": true
   },
   "outputs": [],
   "source": []
  }
 ],
 "metadata": {
  "kernelspec": {
   "display_name": "Python 3",
   "language": "python",
   "name": "python3"
  },
  "language_info": {
   "codemirror_mode": {
    "name": "ipython",
    "version": 3
   },
   "file_extension": ".py",
   "mimetype": "text/x-python",
   "name": "python",
   "nbconvert_exporter": "python",
   "pygments_lexer": "ipython3",
   "version": "3.5.4"
  }
 },
 "nbformat": 4,
 "nbformat_minor": 2
}
